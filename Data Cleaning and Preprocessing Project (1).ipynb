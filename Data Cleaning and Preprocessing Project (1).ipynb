{
 "cells": [
  {
   "cell_type": "code",
   "execution_count": 3,
   "id": "63f8c921-e94e-492d-8911-e115cb1a04d3",
   "metadata": {},
   "outputs": [
    {
     "name": "stdout",
     "output_type": "stream",
     "text": [
      "Warning: Looks like you're using an outdated `kagglehub` version (installed: 0.3.9), please consider upgrading to the latest version (0.3.10).\n",
      "Path to dataset files: /home/957d7ebd-3084-4c8d-906f-58202cda4c30/.cache/kagglehub/datasets/ahmedmohamed2003/cafe-sales-dirty-data-for-cleaning-training/versions/1\n"
     ]
    }
   ],
   "source": [
    "import kagglehub\n",
    "\n",
    "# Download latest version\n",
    "path = kagglehub.dataset_download(\"ahmedmohamed2003/cafe-sales-dirty-data-for-cleaning-training\")\n",
    "\n",
    "print(\"Path to dataset files:\", path)"
   ]
  },
  {
   "cell_type": "code",
   "execution_count": 4,
   "id": "60be96f6-2942-4470-a484-6529796128a4",
   "metadata": {},
   "outputs": [],
   "source": [
    "import pandas as pd \n",
    "import numpy as np"
   ]
  },
  {
   "cell_type": "code",
   "execution_count": 5,
   "id": "6fe8cb29-8798-412b-b67d-119f0e388052",
   "metadata": {},
   "outputs": [
    {
     "data": {
      "text/html": [
       "<div>\n",
       "<style scoped>\n",
       "    .dataframe tbody tr th:only-of-type {\n",
       "        vertical-align: middle;\n",
       "    }\n",
       "\n",
       "    .dataframe tbody tr th {\n",
       "        vertical-align: top;\n",
       "    }\n",
       "\n",
       "    .dataframe thead th {\n",
       "        text-align: right;\n",
       "    }\n",
       "</style>\n",
       "<table border=\"1\" class=\"dataframe\">\n",
       "  <thead>\n",
       "    <tr style=\"text-align: right;\">\n",
       "      <th></th>\n",
       "      <th>Transaction ID</th>\n",
       "      <th>Item</th>\n",
       "      <th>Quantity</th>\n",
       "      <th>Price Per Unit</th>\n",
       "      <th>Total Spent</th>\n",
       "      <th>Payment Method</th>\n",
       "      <th>Location</th>\n",
       "      <th>Transaction Date</th>\n",
       "    </tr>\n",
       "  </thead>\n",
       "  <tbody>\n",
       "    <tr>\n",
       "      <th>0</th>\n",
       "      <td>TXN_1961373</td>\n",
       "      <td>Coffee</td>\n",
       "      <td>2</td>\n",
       "      <td>2.0</td>\n",
       "      <td>4.0</td>\n",
       "      <td>Credit Card</td>\n",
       "      <td>Takeaway</td>\n",
       "      <td>2023-09-08</td>\n",
       "    </tr>\n",
       "    <tr>\n",
       "      <th>1</th>\n",
       "      <td>TXN_4977031</td>\n",
       "      <td>Cake</td>\n",
       "      <td>4</td>\n",
       "      <td>3.0</td>\n",
       "      <td>12.0</td>\n",
       "      <td>Cash</td>\n",
       "      <td>In-store</td>\n",
       "      <td>2023-05-16</td>\n",
       "    </tr>\n",
       "    <tr>\n",
       "      <th>2</th>\n",
       "      <td>TXN_4271903</td>\n",
       "      <td>Cookie</td>\n",
       "      <td>4</td>\n",
       "      <td>1.0</td>\n",
       "      <td>ERROR</td>\n",
       "      <td>Credit Card</td>\n",
       "      <td>In-store</td>\n",
       "      <td>2023-07-19</td>\n",
       "    </tr>\n",
       "    <tr>\n",
       "      <th>3</th>\n",
       "      <td>TXN_7034554</td>\n",
       "      <td>Salad</td>\n",
       "      <td>2</td>\n",
       "      <td>5.0</td>\n",
       "      <td>10.0</td>\n",
       "      <td>UNKNOWN</td>\n",
       "      <td>UNKNOWN</td>\n",
       "      <td>2023-04-27</td>\n",
       "    </tr>\n",
       "    <tr>\n",
       "      <th>4</th>\n",
       "      <td>TXN_3160411</td>\n",
       "      <td>Coffee</td>\n",
       "      <td>2</td>\n",
       "      <td>2.0</td>\n",
       "      <td>4.0</td>\n",
       "      <td>Digital Wallet</td>\n",
       "      <td>In-store</td>\n",
       "      <td>2023-06-11</td>\n",
       "    </tr>\n",
       "    <tr>\n",
       "      <th>...</th>\n",
       "      <td>...</td>\n",
       "      <td>...</td>\n",
       "      <td>...</td>\n",
       "      <td>...</td>\n",
       "      <td>...</td>\n",
       "      <td>...</td>\n",
       "      <td>...</td>\n",
       "      <td>...</td>\n",
       "    </tr>\n",
       "    <tr>\n",
       "      <th>9995</th>\n",
       "      <td>TXN_7672686</td>\n",
       "      <td>Coffee</td>\n",
       "      <td>2</td>\n",
       "      <td>2.0</td>\n",
       "      <td>4.0</td>\n",
       "      <td>NaN</td>\n",
       "      <td>UNKNOWN</td>\n",
       "      <td>2023-08-30</td>\n",
       "    </tr>\n",
       "    <tr>\n",
       "      <th>9996</th>\n",
       "      <td>TXN_9659401</td>\n",
       "      <td>NaN</td>\n",
       "      <td>3</td>\n",
       "      <td>NaN</td>\n",
       "      <td>3.0</td>\n",
       "      <td>Digital Wallet</td>\n",
       "      <td>NaN</td>\n",
       "      <td>2023-06-02</td>\n",
       "    </tr>\n",
       "    <tr>\n",
       "      <th>9997</th>\n",
       "      <td>TXN_5255387</td>\n",
       "      <td>Coffee</td>\n",
       "      <td>4</td>\n",
       "      <td>2.0</td>\n",
       "      <td>8.0</td>\n",
       "      <td>Digital Wallet</td>\n",
       "      <td>NaN</td>\n",
       "      <td>2023-03-02</td>\n",
       "    </tr>\n",
       "    <tr>\n",
       "      <th>9998</th>\n",
       "      <td>TXN_7695629</td>\n",
       "      <td>Cookie</td>\n",
       "      <td>3</td>\n",
       "      <td>NaN</td>\n",
       "      <td>3.0</td>\n",
       "      <td>Digital Wallet</td>\n",
       "      <td>NaN</td>\n",
       "      <td>2023-12-02</td>\n",
       "    </tr>\n",
       "    <tr>\n",
       "      <th>9999</th>\n",
       "      <td>TXN_6170729</td>\n",
       "      <td>Sandwich</td>\n",
       "      <td>3</td>\n",
       "      <td>4.0</td>\n",
       "      <td>12.0</td>\n",
       "      <td>Cash</td>\n",
       "      <td>In-store</td>\n",
       "      <td>2023-11-07</td>\n",
       "    </tr>\n",
       "  </tbody>\n",
       "</table>\n",
       "<p>10000 rows × 8 columns</p>\n",
       "</div>"
      ],
      "text/plain": [
       "     Transaction ID      Item Quantity Price Per Unit Total Spent  \\\n",
       "0       TXN_1961373    Coffee        2            2.0         4.0   \n",
       "1       TXN_4977031      Cake        4            3.0        12.0   \n",
       "2       TXN_4271903    Cookie        4            1.0       ERROR   \n",
       "3       TXN_7034554     Salad        2            5.0        10.0   \n",
       "4       TXN_3160411    Coffee        2            2.0         4.0   \n",
       "...             ...       ...      ...            ...         ...   \n",
       "9995    TXN_7672686    Coffee        2            2.0         4.0   \n",
       "9996    TXN_9659401       NaN        3            NaN         3.0   \n",
       "9997    TXN_5255387    Coffee        4            2.0         8.0   \n",
       "9998    TXN_7695629    Cookie        3            NaN         3.0   \n",
       "9999    TXN_6170729  Sandwich        3            4.0        12.0   \n",
       "\n",
       "      Payment Method  Location Transaction Date  \n",
       "0        Credit Card  Takeaway       2023-09-08  \n",
       "1               Cash  In-store       2023-05-16  \n",
       "2        Credit Card  In-store       2023-07-19  \n",
       "3            UNKNOWN   UNKNOWN       2023-04-27  \n",
       "4     Digital Wallet  In-store       2023-06-11  \n",
       "...              ...       ...              ...  \n",
       "9995             NaN   UNKNOWN       2023-08-30  \n",
       "9996  Digital Wallet       NaN       2023-06-02  \n",
       "9997  Digital Wallet       NaN       2023-03-02  \n",
       "9998  Digital Wallet       NaN       2023-12-02  \n",
       "9999            Cash  In-store       2023-11-07  \n",
       "\n",
       "[10000 rows x 8 columns]"
      ]
     },
     "execution_count": 5,
     "metadata": {},
     "output_type": "execute_result"
    }
   ],
   "source": [
    "pd.read_csv('dirty_cafe_sales.csv')"
   ]
  },
  {
   "cell_type": "code",
   "execution_count": 6,
   "id": "f744ac2e-3cc9-4082-b076-a6e790a4bd59",
   "metadata": {},
   "outputs": [
    {
     "data": {
      "text/html": [
       "<div>\n",
       "<style scoped>\n",
       "    .dataframe tbody tr th:only-of-type {\n",
       "        vertical-align: middle;\n",
       "    }\n",
       "\n",
       "    .dataframe tbody tr th {\n",
       "        vertical-align: top;\n",
       "    }\n",
       "\n",
       "    .dataframe thead th {\n",
       "        text-align: right;\n",
       "    }\n",
       "</style>\n",
       "<table border=\"1\" class=\"dataframe\">\n",
       "  <thead>\n",
       "    <tr style=\"text-align: right;\">\n",
       "      <th></th>\n",
       "      <th>Transaction ID</th>\n",
       "      <th>Item</th>\n",
       "      <th>Quantity</th>\n",
       "      <th>Price Per Unit</th>\n",
       "      <th>Total Spent</th>\n",
       "      <th>Payment Method</th>\n",
       "      <th>Location</th>\n",
       "      <th>Transaction Date</th>\n",
       "    </tr>\n",
       "  </thead>\n",
       "  <tbody>\n",
       "    <tr>\n",
       "      <th>0</th>\n",
       "      <td>TXN_1961373</td>\n",
       "      <td>Coffee</td>\n",
       "      <td>2</td>\n",
       "      <td>2.0</td>\n",
       "      <td>4.0</td>\n",
       "      <td>Credit Card</td>\n",
       "      <td>Takeaway</td>\n",
       "      <td>2023-09-08</td>\n",
       "    </tr>\n",
       "    <tr>\n",
       "      <th>1</th>\n",
       "      <td>TXN_4977031</td>\n",
       "      <td>Cake</td>\n",
       "      <td>4</td>\n",
       "      <td>3.0</td>\n",
       "      <td>12.0</td>\n",
       "      <td>Cash</td>\n",
       "      <td>In-store</td>\n",
       "      <td>2023-05-16</td>\n",
       "    </tr>\n",
       "    <tr>\n",
       "      <th>2</th>\n",
       "      <td>TXN_4271903</td>\n",
       "      <td>Cookie</td>\n",
       "      <td>4</td>\n",
       "      <td>1.0</td>\n",
       "      <td>ERROR</td>\n",
       "      <td>Credit Card</td>\n",
       "      <td>In-store</td>\n",
       "      <td>2023-07-19</td>\n",
       "    </tr>\n",
       "    <tr>\n",
       "      <th>3</th>\n",
       "      <td>TXN_7034554</td>\n",
       "      <td>Salad</td>\n",
       "      <td>2</td>\n",
       "      <td>5.0</td>\n",
       "      <td>10.0</td>\n",
       "      <td>UNKNOWN</td>\n",
       "      <td>UNKNOWN</td>\n",
       "      <td>2023-04-27</td>\n",
       "    </tr>\n",
       "    <tr>\n",
       "      <th>4</th>\n",
       "      <td>TXN_3160411</td>\n",
       "      <td>Coffee</td>\n",
       "      <td>2</td>\n",
       "      <td>2.0</td>\n",
       "      <td>4.0</td>\n",
       "      <td>Digital Wallet</td>\n",
       "      <td>In-store</td>\n",
       "      <td>2023-06-11</td>\n",
       "    </tr>\n",
       "    <tr>\n",
       "      <th>5</th>\n",
       "      <td>TXN_2602893</td>\n",
       "      <td>Smoothie</td>\n",
       "      <td>5</td>\n",
       "      <td>4.0</td>\n",
       "      <td>20.0</td>\n",
       "      <td>Credit Card</td>\n",
       "      <td>NaN</td>\n",
       "      <td>2023-03-31</td>\n",
       "    </tr>\n",
       "    <tr>\n",
       "      <th>6</th>\n",
       "      <td>TXN_4433211</td>\n",
       "      <td>UNKNOWN</td>\n",
       "      <td>3</td>\n",
       "      <td>3.0</td>\n",
       "      <td>9.0</td>\n",
       "      <td>ERROR</td>\n",
       "      <td>Takeaway</td>\n",
       "      <td>2023-10-06</td>\n",
       "    </tr>\n",
       "    <tr>\n",
       "      <th>7</th>\n",
       "      <td>TXN_6699534</td>\n",
       "      <td>Sandwich</td>\n",
       "      <td>4</td>\n",
       "      <td>4.0</td>\n",
       "      <td>16.0</td>\n",
       "      <td>Cash</td>\n",
       "      <td>UNKNOWN</td>\n",
       "      <td>2023-10-28</td>\n",
       "    </tr>\n",
       "    <tr>\n",
       "      <th>8</th>\n",
       "      <td>TXN_4717867</td>\n",
       "      <td>NaN</td>\n",
       "      <td>5</td>\n",
       "      <td>3.0</td>\n",
       "      <td>15.0</td>\n",
       "      <td>NaN</td>\n",
       "      <td>Takeaway</td>\n",
       "      <td>2023-07-28</td>\n",
       "    </tr>\n",
       "    <tr>\n",
       "      <th>9</th>\n",
       "      <td>TXN_2064365</td>\n",
       "      <td>Sandwich</td>\n",
       "      <td>5</td>\n",
       "      <td>4.0</td>\n",
       "      <td>20.0</td>\n",
       "      <td>NaN</td>\n",
       "      <td>In-store</td>\n",
       "      <td>2023-12-31</td>\n",
       "    </tr>\n",
       "  </tbody>\n",
       "</table>\n",
       "</div>"
      ],
      "text/plain": [
       "  Transaction ID      Item Quantity Price Per Unit Total Spent  \\\n",
       "0    TXN_1961373    Coffee        2            2.0         4.0   \n",
       "1    TXN_4977031      Cake        4            3.0        12.0   \n",
       "2    TXN_4271903    Cookie        4            1.0       ERROR   \n",
       "3    TXN_7034554     Salad        2            5.0        10.0   \n",
       "4    TXN_3160411    Coffee        2            2.0         4.0   \n",
       "5    TXN_2602893  Smoothie        5            4.0        20.0   \n",
       "6    TXN_4433211   UNKNOWN        3            3.0         9.0   \n",
       "7    TXN_6699534  Sandwich        4            4.0        16.0   \n",
       "8    TXN_4717867       NaN        5            3.0        15.0   \n",
       "9    TXN_2064365  Sandwich        5            4.0        20.0   \n",
       "\n",
       "   Payment Method  Location Transaction Date  \n",
       "0     Credit Card  Takeaway       2023-09-08  \n",
       "1            Cash  In-store       2023-05-16  \n",
       "2     Credit Card  In-store       2023-07-19  \n",
       "3         UNKNOWN   UNKNOWN       2023-04-27  \n",
       "4  Digital Wallet  In-store       2023-06-11  \n",
       "5     Credit Card       NaN       2023-03-31  \n",
       "6           ERROR  Takeaway       2023-10-06  \n",
       "7            Cash   UNKNOWN       2023-10-28  \n",
       "8             NaN  Takeaway       2023-07-28  \n",
       "9             NaN  In-store       2023-12-31  "
      ]
     },
     "execution_count": 6,
     "metadata": {},
     "output_type": "execute_result"
    }
   ],
   "source": [
    "data = pd.read_csv('dirty_cafe_sales.csv')\n",
    "\n",
    "#making a copy of the original data set\n",
    "df = data.copy()\n",
    "\n",
    "#Displaying the first 10 rows of the data\n",
    "df.head(10)"
   ]
  },
  {
   "cell_type": "code",
   "execution_count": 7,
   "id": "5d7a3428-9187-453d-81d1-1d9e10bc0448",
   "metadata": {},
   "outputs": [
    {
     "name": "stdout",
     "output_type": "stream",
     "text": [
      "<class 'pandas.core.frame.DataFrame'>\n",
      "RangeIndex: 10000 entries, 0 to 9999\n",
      "Data columns (total 8 columns):\n",
      " #   Column            Non-Null Count  Dtype \n",
      "---  ------            --------------  ----- \n",
      " 0   Transaction ID    10000 non-null  object\n",
      " 1   Item              9667 non-null   object\n",
      " 2   Quantity          9862 non-null   object\n",
      " 3   Price Per Unit    9821 non-null   object\n",
      " 4   Total Spent       9827 non-null   object\n",
      " 5   Payment Method    7421 non-null   object\n",
      " 6   Location          6735 non-null   object\n",
      " 7   Transaction Date  9841 non-null   object\n",
      "dtypes: object(8)\n",
      "memory usage: 625.1+ KB\n"
     ]
    }
   ],
   "source": [
    "#Checking basic info of the data\n",
    "df.info()"
   ]
  },
  {
   "cell_type": "code",
   "execution_count": 8,
   "id": "e441738d-4c80-49a8-81ca-f3abd07919c4",
   "metadata": {},
   "outputs": [
    {
     "data": {
      "text/html": [
       "<div>\n",
       "<style scoped>\n",
       "    .dataframe tbody tr th:only-of-type {\n",
       "        vertical-align: middle;\n",
       "    }\n",
       "\n",
       "    .dataframe tbody tr th {\n",
       "        vertical-align: top;\n",
       "    }\n",
       "\n",
       "    .dataframe thead th {\n",
       "        text-align: right;\n",
       "    }\n",
       "</style>\n",
       "<table border=\"1\" class=\"dataframe\">\n",
       "  <thead>\n",
       "    <tr style=\"text-align: right;\">\n",
       "      <th></th>\n",
       "      <th>Transaction ID</th>\n",
       "      <th>Item</th>\n",
       "      <th>Quantity</th>\n",
       "      <th>Price Per Unit</th>\n",
       "      <th>Total Spent</th>\n",
       "      <th>Payment Method</th>\n",
       "      <th>Location</th>\n",
       "      <th>Transaction Date</th>\n",
       "    </tr>\n",
       "  </thead>\n",
       "  <tbody>\n",
       "    <tr>\n",
       "      <th>count</th>\n",
       "      <td>10000</td>\n",
       "      <td>9667</td>\n",
       "      <td>9862</td>\n",
       "      <td>9821</td>\n",
       "      <td>9827</td>\n",
       "      <td>7421</td>\n",
       "      <td>6735</td>\n",
       "      <td>9841</td>\n",
       "    </tr>\n",
       "    <tr>\n",
       "      <th>unique</th>\n",
       "      <td>10000</td>\n",
       "      <td>10</td>\n",
       "      <td>7</td>\n",
       "      <td>8</td>\n",
       "      <td>19</td>\n",
       "      <td>5</td>\n",
       "      <td>4</td>\n",
       "      <td>367</td>\n",
       "    </tr>\n",
       "    <tr>\n",
       "      <th>top</th>\n",
       "      <td>TXN_6170729</td>\n",
       "      <td>Juice</td>\n",
       "      <td>5</td>\n",
       "      <td>3.0</td>\n",
       "      <td>6.0</td>\n",
       "      <td>Digital Wallet</td>\n",
       "      <td>Takeaway</td>\n",
       "      <td>UNKNOWN</td>\n",
       "    </tr>\n",
       "    <tr>\n",
       "      <th>freq</th>\n",
       "      <td>1</td>\n",
       "      <td>1171</td>\n",
       "      <td>2013</td>\n",
       "      <td>2429</td>\n",
       "      <td>979</td>\n",
       "      <td>2291</td>\n",
       "      <td>3022</td>\n",
       "      <td>159</td>\n",
       "    </tr>\n",
       "  </tbody>\n",
       "</table>\n",
       "</div>"
      ],
      "text/plain": [
       "       Transaction ID   Item Quantity Price Per Unit Total Spent  \\\n",
       "count           10000   9667     9862           9821        9827   \n",
       "unique          10000     10        7              8          19   \n",
       "top       TXN_6170729  Juice        5            3.0         6.0   \n",
       "freq                1   1171     2013           2429         979   \n",
       "\n",
       "        Payment Method  Location Transaction Date  \n",
       "count             7421      6735             9841  \n",
       "unique               5         4              367  \n",
       "top     Digital Wallet  Takeaway          UNKNOWN  \n",
       "freq              2291      3022              159  "
      ]
     },
     "execution_count": 8,
     "metadata": {},
     "output_type": "execute_result"
    }
   ],
   "source": [
    "#Checking summary of the data\n",
    "df.describe()"
   ]
  },
  {
   "cell_type": "code",
   "execution_count": 9,
   "id": "b11de67b-ce9a-4884-a4ac-91c95821e394",
   "metadata": {},
   "outputs": [
    {
     "data": {
      "text/plain": [
       "Transaction ID         0\n",
       "Item                 333\n",
       "Quantity             138\n",
       "Price Per Unit       179\n",
       "Total Spent          173\n",
       "Payment Method      2579\n",
       "Location            3265\n",
       "Transaction Date     159\n",
       "dtype: int64"
      ]
     },
     "execution_count": 9,
     "metadata": {},
     "output_type": "execute_result"
    }
   ],
   "source": [
    "#Checking for missing values\n",
    "df.isnull().sum()"
   ]
  },
  {
   "cell_type": "markdown",
   "id": "28ce1c20-07a7-4803-9f50-89b209bc372d",
   "metadata": {},
   "source": [
    "Filling missing values for each column"
   ]
  },
  {
   "cell_type": "markdown",
   "id": "dff82fb2-101d-498d-ba99-98049674abf9",
   "metadata": {},
   "source": [
    "\"Item\" Column"
   ]
  },
  {
   "cell_type": "code",
   "execution_count": 12,
   "id": "20f48746-3c04-4a6f-bf5c-357584bf1e45",
   "metadata": {},
   "outputs": [
    {
     "data": {
      "text/plain": [
       "array(['Coffee', 'Cake', 'Cookie', 'Salad', 'Smoothie', 'UNKNOWN',\n",
       "       'Sandwich', nan, 'ERROR', 'Juice', 'Tea'], dtype=object)"
      ]
     },
     "execution_count": 12,
     "metadata": {},
     "output_type": "execute_result"
    }
   ],
   "source": [
    "df['Item'].unique()"
   ]
  },
  {
   "cell_type": "code",
   "execution_count": 13,
   "id": "d46c81aa-125b-43c8-bb0b-073241426ca6",
   "metadata": {},
   "outputs": [],
   "source": [
    "df['Item'].replace({'ERROR':'UNKNOWN'}, inplace = True)\n",
    "#Filling the missing values in the \"Item\" column with UNKNOWN\n",
    "df['Item'].fillna('UNKNOWN', inplace= True)"
   ]
  },
  {
   "cell_type": "code",
   "execution_count": 14,
   "id": "c59916be-90c1-4480-b180-7cd1d0a83c91",
   "metadata": {},
   "outputs": [
    {
     "data": {
      "text/plain": [
       "0"
      ]
     },
     "execution_count": 14,
     "metadata": {},
     "output_type": "execute_result"
    }
   ],
   "source": [
    "#Checking\n",
    "df['Item'].isnull().sum()"
   ]
  },
  {
   "cell_type": "code",
   "execution_count": 15,
   "id": "61bd525d-754c-4af7-a05b-452d96450e25",
   "metadata": {},
   "outputs": [
    {
     "data": {
      "text/plain": [
       "array(['Coffee', 'Cake', 'Cookie', 'Salad', 'Smoothie', 'UNKNOWN',\n",
       "       'Sandwich', 'Juice', 'Tea'], dtype=object)"
      ]
     },
     "execution_count": 15,
     "metadata": {},
     "output_type": "execute_result"
    }
   ],
   "source": [
    "df['Item'].unique()"
   ]
  },
  {
   "cell_type": "markdown",
   "id": "9a0bdab4-0646-4630-9beb-b715a2ac5db0",
   "metadata": {},
   "source": [
    "\"Quantity\" Column"
   ]
  },
  {
   "cell_type": "code",
   "execution_count": 17,
   "id": "c1467d47-6d02-4883-a68d-b2f66af7f32f",
   "metadata": {},
   "outputs": [
    {
     "data": {
      "text/plain": [
       "array(['2', '4', '5', '3', '1', 'ERROR', 'UNKNOWN', nan], dtype=object)"
      ]
     },
     "execution_count": 17,
     "metadata": {},
     "output_type": "execute_result"
    }
   ],
   "source": [
    "#Checking for the unique values in the \"Quantity\" column\n",
    "df['Quantity'].unique()"
   ]
  },
  {
   "cell_type": "code",
   "execution_count": 18,
   "id": "45349705-b8f5-40f0-824d-15553826b4d8",
   "metadata": {},
   "outputs": [
    {
     "data": {
      "text/plain": [
       "array(['2', '4', '5', '3', '1', 0, nan], dtype=object)"
      ]
     },
     "execution_count": 18,
     "metadata": {},
     "output_type": "execute_result"
    }
   ],
   "source": [
    "# Replacing \"UNKNOWN\" with 0\n",
    "df['Quantity'].replace({'ERROR':'UNKNOWN'}, inplace = True)\n",
    "df['Quantity'] = df['Quantity'].replace('UNKNOWN', 0)\n",
    "df['Quantity'].unique()"
   ]
  },
  {
   "cell_type": "code",
   "execution_count": 19,
   "id": "7f4b880d-1493-4496-b8ee-ac41c9b98f6d",
   "metadata": {},
   "outputs": [],
   "source": [
    "#Converting \"Quantity\" column to numeric\n",
    "df['Quantity'] = pd.to_numeric(df['Quantity'])"
   ]
  },
  {
   "cell_type": "code",
   "execution_count": 20,
   "id": "84a53999-e1f7-4271-a263-fd0720de401e",
   "metadata": {},
   "outputs": [],
   "source": [
    "#Filling the missing values in the \"Quantity\" column with the mean\n",
    "df['Quantity'].fillna(df['Quantity'].mean(), inplace= True)"
   ]
  },
  {
   "cell_type": "code",
   "execution_count": 21,
   "id": "ceb6561b-8689-446d-854b-9db96f41ff45",
   "metadata": {},
   "outputs": [
    {
     "data": {
      "text/plain": [
       "0"
      ]
     },
     "execution_count": 21,
     "metadata": {},
     "output_type": "execute_result"
    }
   ],
   "source": [
    "#Checking\n",
    "df['Quantity'].isnull().sum()"
   ]
  },
  {
   "cell_type": "code",
   "execution_count": 22,
   "id": "a350dd45-f6df-4028-b3de-5ddf9b1b1945",
   "metadata": {},
   "outputs": [
    {
     "data": {
      "text/plain": [
       "array([2.        , 4.        , 5.        , 3.        , 1.        ,\n",
       "       0.        , 2.92374772])"
      ]
     },
     "execution_count": 22,
     "metadata": {},
     "output_type": "execute_result"
    }
   ],
   "source": [
    "df['Quantity'].unique()"
   ]
  },
  {
   "cell_type": "markdown",
   "id": "8ad88860-59a6-4bb1-ae66-a35c805837ea",
   "metadata": {},
   "source": [
    "\"Price Per Unit\" Column"
   ]
  },
  {
   "cell_type": "code",
   "execution_count": 24,
   "id": "4f98109b-7436-4575-ba9a-879d8105280b",
   "metadata": {},
   "outputs": [
    {
     "data": {
      "text/plain": [
       "array(['2.0', '3.0', '1.0', '5.0', '4.0', '1.5', nan, 'ERROR', 'UNKNOWN'],\n",
       "      dtype=object)"
      ]
     },
     "execution_count": 24,
     "metadata": {},
     "output_type": "execute_result"
    }
   ],
   "source": [
    "#Checking unique values\n",
    "df['Price Per Unit'].unique()"
   ]
  },
  {
   "cell_type": "code",
   "execution_count": 25,
   "id": "ef063f43-396b-4d7d-b3b9-4744e501772e",
   "metadata": {},
   "outputs": [],
   "source": [
    "#Replacing 'ERROR' and 'UNKNOWN' with 0 \n",
    "df['Price Per Unit'] = df['Price Per Unit'].replace('ERROR', 0)\n",
    "df['Price Per Unit'] = df['Price Per Unit'].replace('UNKNOWN', 0)\n",
    "\n",
    "#Then converting the \"Price Per Unit\" column to numeric\n",
    "df['Price Per Unit'] = pd.to_numeric(df['Price Per Unit'])"
   ]
  },
  {
   "cell_type": "code",
   "execution_count": 26,
   "id": "d743cb3c-a36d-41f7-9370-68c6728c4039",
   "metadata": {},
   "outputs": [],
   "source": [
    "#Filling missing values in the \"Price Per Unit\" column the mean\n",
    "df['Price Per Unit'].fillna(df['Price Per Unit'].mean(), inplace= True)"
   ]
  },
  {
   "cell_type": "code",
   "execution_count": 27,
   "id": "b8468805-f5a9-4134-8d97-00db0b59fb1b",
   "metadata": {},
   "outputs": [
    {
     "data": {
      "text/plain": [
       "0"
      ]
     },
     "execution_count": 27,
     "metadata": {},
     "output_type": "execute_result"
    }
   ],
   "source": [
    "#Checking\n",
    "df['Price Per Unit'].isnull().sum()"
   ]
  },
  {
   "cell_type": "code",
   "execution_count": 28,
   "id": "6a3d74c1-a20f-4670-844c-8902cff974c7",
   "metadata": {},
   "outputs": [
    {
     "data": {
      "text/plain": [
       "array([2.        , 3.        , 1.        , 5.        , 4.        ,\n",
       "       1.5       , 2.84365136, 0.        ])"
      ]
     },
     "execution_count": 28,
     "metadata": {},
     "output_type": "execute_result"
    }
   ],
   "source": [
    "df['Price Per Unit'].unique()"
   ]
  },
  {
   "cell_type": "markdown",
   "id": "925f52c0-a282-407c-b495-53b65ed8e9cf",
   "metadata": {},
   "source": [
    "\"Total Spent\" Column"
   ]
  },
  {
   "cell_type": "code",
   "execution_count": 30,
   "id": "8ed61f2e-0511-42ec-a609-68c19874ddd6",
   "metadata": {},
   "outputs": [
    {
     "data": {
      "text/plain": [
       "array(['4.0', '12.0', 'ERROR', '10.0', '20.0', '9.0', '16.0', '15.0',\n",
       "       '25.0', '8.0', '5.0', '3.0', '6.0', nan, 'UNKNOWN', '2.0', '1.0',\n",
       "       '7.5', '4.5', '1.5'], dtype=object)"
      ]
     },
     "execution_count": 30,
     "metadata": {},
     "output_type": "execute_result"
    }
   ],
   "source": [
    "#Checking unique values\n",
    "df['Total Spent'].unique()"
   ]
  },
  {
   "cell_type": "code",
   "execution_count": 31,
   "id": "dff4e096-6b82-4cdf-8092-c19c13227bc3",
   "metadata": {},
   "outputs": [],
   "source": [
    "#Replacing 'ERROR' and 'UNKNOWN' with 0 \n",
    "df['Total Spent'] = df['Total Spent'].replace('ERROR', 0)\n",
    "df['Total Spent'] = df['Total Spent'].replace('UNKNOWN', 0)\n",
    "\n",
    "#Then converting the \"Price Per Unit\" column to numeric\n",
    "df['Total Spent'] = pd.to_numeric(df['Total Spent'])"
   ]
  },
  {
   "cell_type": "code",
   "execution_count": 32,
   "id": "e651dd46-cc3a-4e3c-88ef-1315148f07fb",
   "metadata": {},
   "outputs": [],
   "source": [
    "#Filling missing values in the \"Total Spent\" column with the mean\n",
    "df['Total Spent'].fillna(df['Total Spent'].mean(), inplace= True)"
   ]
  },
  {
   "cell_type": "code",
   "execution_count": 33,
   "id": "ea318038-37b1-449a-ba8d-b22d7608b3d3",
   "metadata": {},
   "outputs": [
    {
     "data": {
      "text/plain": [
       "0"
      ]
     },
     "execution_count": 33,
     "metadata": {},
     "output_type": "execute_result"
    }
   ],
   "source": [
    "#Checking\n",
    "df['Total Spent'].isnull().sum()"
   ]
  },
  {
   "cell_type": "code",
   "execution_count": 34,
   "id": "4b191d33-1c16-48c8-b7cb-f910a8c6c440",
   "metadata": {},
   "outputs": [
    {
     "data": {
      "text/plain": [
       "array([ 4.       , 12.       ,  0.       , 10.       , 20.       ,\n",
       "        9.       , 16.       , 15.       , 25.       ,  8.       ,\n",
       "        5.       ,  3.       ,  6.       ,  8.6255724,  2.       ,\n",
       "        1.       ,  7.5      ,  4.5      ,  1.5      ])"
      ]
     },
     "execution_count": 34,
     "metadata": {},
     "output_type": "execute_result"
    }
   ],
   "source": [
    "df['Total Spent'].unique()"
   ]
  },
  {
   "cell_type": "markdown",
   "id": "d613ba40-9b7b-4ff4-ad85-17813d03585c",
   "metadata": {},
   "source": [
    "\"Payment Method\" Column"
   ]
  },
  {
   "cell_type": "code",
   "execution_count": 36,
   "id": "e59e6c63-b4d1-48ea-bb53-2d0433de814b",
   "metadata": {},
   "outputs": [
    {
     "data": {
      "text/plain": [
       "array(['Credit Card', 'Cash', 'UNKNOWN', 'Digital Wallet', 'ERROR', nan],\n",
       "      dtype=object)"
      ]
     },
     "execution_count": 36,
     "metadata": {},
     "output_type": "execute_result"
    }
   ],
   "source": [
    "#Checking unique method\n",
    "df['Payment Method'].unique()"
   ]
  },
  {
   "cell_type": "code",
   "execution_count": 37,
   "id": "914e5a36-a6c7-43f3-9c9b-c286891ec77b",
   "metadata": {},
   "outputs": [],
   "source": [
    "#Replacing 'ERROR' with 'UNKNOWN'\n",
    "df['Payment Method'].replace({'ERROR':'UNKNOWN'}, inplace= True)\n",
    "\n",
    "#Filling missing payment method with 'UNKNOWN'\n",
    "df['Payment Method'].fillna('UNKNOWN', inplace= True)"
   ]
  },
  {
   "cell_type": "code",
   "execution_count": 38,
   "id": "a0ae1d3e-d3df-4bf0-8bab-ce6ac7cde439",
   "metadata": {},
   "outputs": [
    {
     "data": {
      "text/plain": [
       "0"
      ]
     },
     "execution_count": 38,
     "metadata": {},
     "output_type": "execute_result"
    }
   ],
   "source": [
    "#Checking\n",
    "df['Payment Method'].isnull().sum()"
   ]
  },
  {
   "cell_type": "code",
   "execution_count": 39,
   "id": "9a765dbe-30a7-4890-8569-7a63c7ae0fa5",
   "metadata": {},
   "outputs": [],
   "source": [
    "#Replacing 'UNKNOWN' payment method with 'credit card'\n",
    "df['Payment Method'].replace({'UNKNOWN': 'Credit Card'}, inplace= True)"
   ]
  },
  {
   "cell_type": "code",
   "execution_count": 40,
   "id": "77abab81-b5ed-4b60-8cf7-faee5b2e9274",
   "metadata": {},
   "outputs": [
    {
     "data": {
      "text/plain": [
       "array(['Credit Card', 'Cash', 'Digital Wallet'], dtype=object)"
      ]
     },
     "execution_count": 40,
     "metadata": {},
     "output_type": "execute_result"
    }
   ],
   "source": [
    "df['Payment Method'].unique()"
   ]
  },
  {
   "cell_type": "markdown",
   "id": "f99db28d-4202-4fd3-ae23-ff715b142725",
   "metadata": {},
   "source": [
    "\"Location\" Column"
   ]
  },
  {
   "cell_type": "code",
   "execution_count": 42,
   "id": "6e317bbf-0459-4dcb-869e-0d7d7852ed6f",
   "metadata": {},
   "outputs": [
    {
     "data": {
      "text/plain": [
       "array(['Takeaway', 'In-store', 'UNKNOWN', nan, 'ERROR'], dtype=object)"
      ]
     },
     "execution_count": 42,
     "metadata": {},
     "output_type": "execute_result"
    }
   ],
   "source": [
    "#Checking unique location\n",
    "df['Location'].unique()"
   ]
  },
  {
   "cell_type": "code",
   "execution_count": 43,
   "id": "24bec68f-39f6-4e0e-b732-4dfea5ae9073",
   "metadata": {},
   "outputs": [
    {
     "data": {
      "text/plain": [
       "0"
      ]
     },
     "execution_count": 43,
     "metadata": {},
     "output_type": "execute_result"
    }
   ],
   "source": [
    "#Replacing 'ERROR' with 'UNKNOWN'\n",
    "df['Location'].replace({'ERROR':'UNKNOWN'}, inplace = True)\n",
    "\n",
    "#Filling missing 'Location' with 'UNKNOWN'\n",
    "df['Location'].fillna('UNKNOWN', inplace= True)\n",
    "\n",
    "#Checking\n",
    "df['Location'].isnull().sum()"
   ]
  },
  {
   "cell_type": "code",
   "execution_count": 44,
   "id": "cb0e714f-227f-4394-99a7-b53dc7634361",
   "metadata": {},
   "outputs": [
    {
     "data": {
      "text/plain": [
       "array(['Takeaway', 'In-store', 'UNKNOWN'], dtype=object)"
      ]
     },
     "execution_count": 44,
     "metadata": {},
     "output_type": "execute_result"
    }
   ],
   "source": [
    "df['Location'].unique()"
   ]
  },
  {
   "cell_type": "markdown",
   "id": "a9e96dd0-7542-4264-a96f-c8c1cbccc60f",
   "metadata": {},
   "source": [
    "\"Transaction Date\" Column"
   ]
  },
  {
   "cell_type": "code",
   "execution_count": 46,
   "id": "d4e3ccff-bdc6-4ee2-8336-33a864742604",
   "metadata": {},
   "outputs": [
    {
     "data": {
      "text/plain": [
       "array(['2023-09-08', '2023-05-16', '2023-07-19', '2023-04-27',\n",
       "       '2023-06-11', '2023-03-31', '2023-10-06', '2023-10-28',\n",
       "       '2023-07-28', '2023-12-31', '2023-11-07', 'ERROR', '2023-05-03',\n",
       "       '2023-06-01', '2023-03-21', '2023-11-15', '2023-06-10',\n",
       "       '2023-02-24', '2023-03-25', '2023-01-15', '2023-04-04',\n",
       "       '2023-03-30', '2023-12-01', '2023-09-18', '2023-06-03',\n",
       "       '2023-12-13', '2023-04-20', '2023-04-10', '2023-03-11',\n",
       "       '2023-06-02', '2023-11-06', '2023-08-15', '2023-10-09',\n",
       "       '2023-05-28', '2023-07-17', '2023-04-29', '2023-06-08',\n",
       "       '2023-06-29', '2023-04-17', '2023-12-22', '2023-01-10',\n",
       "       '2023-10-02', '2023-02-23', '2023-03-22', '2023-11-03',\n",
       "       '2023-03-02', '2023-06-26', '2023-05-02', '2023-09-05',\n",
       "       '2023-01-08', '2023-03-15', '2023-11-25', '2023-12-05',\n",
       "       '2023-03-19', '2023-06-27', '2023-04-19', '2023-10-07',\n",
       "       '2023-09-30', '2023-05-27', '2023-11-18', '2023-10-20',\n",
       "       '2023-10-03', '2023-10-27', '2023-04-06', '2023-01-31',\n",
       "       '2023-12-08', '2023-06-19', '2023-12-14', '2023-07-16',\n",
       "       '2023-02-22', nan, '2023-06-15', '2023-12-09', '2023-04-18',\n",
       "       '2023-10-29', '2023-04-30', '2023-04-02', '2023-05-24',\n",
       "       '2023-03-12', '2023-08-16', '2023-09-10', '2023-03-07',\n",
       "       '2023-08-07', '2023-08-20', '2023-04-15', '2023-07-25',\n",
       "       '2023-10-30', '2023-12-15', '2023-02-25', '2023-04-03',\n",
       "       '2023-10-08', '2023-12-28', '2023-08-30', '2023-02-03',\n",
       "       '2023-09-12', '2023-05-04', '2023-02-21', 'UNKNOWN', '2023-03-16',\n",
       "       '2023-02-06', '2023-03-29', '2023-06-18', '2023-09-23',\n",
       "       '2023-01-14', '2023-09-14', '2023-09-16', '2023-04-08',\n",
       "       '2023-12-19', '2023-07-14', '2023-12-12', '2023-01-05',\n",
       "       '2023-01-23', '2023-02-20', '2023-12-06', '2023-05-31',\n",
       "       '2023-08-11', '2023-09-03', '2023-07-11', '2023-06-06',\n",
       "       '2023-01-18', '2023-03-23', '2023-01-04', '2023-06-23',\n",
       "       '2023-08-03', '2023-07-12', '2023-11-02', '2023-07-31',\n",
       "       '2023-09-19', '2023-02-09', '2023-09-04', '2023-05-21',\n",
       "       '2023-07-02', '2023-07-10', '2023-11-21', '2023-12-02',\n",
       "       '2023-03-13', '2023-08-12', '2023-02-16', '2023-04-11',\n",
       "       '2023-03-26', '2023-11-01', '2023-07-22', '2023-07-26',\n",
       "       '2023-02-28', '2023-01-27', '2023-01-19', '2023-04-07',\n",
       "       '2023-03-20', '2023-12-27', '2023-10-26', '2023-02-18',\n",
       "       '2023-05-15', '2023-12-10', '2023-04-21', '2023-02-04',\n",
       "       '2023-11-12', '2023-08-05', '2023-05-10', '2023-07-15',\n",
       "       '2023-01-11', '2023-10-01', '2023-04-26', '2023-08-25',\n",
       "       '2023-03-01', '2023-11-13', '2023-07-09', '2023-05-13',\n",
       "       '2023-05-18', '2023-01-17', '2023-09-22', '2023-08-22',\n",
       "       '2023-07-27', '2023-12-30', '2023-12-21', '2023-09-28',\n",
       "       '2023-11-16', '2023-04-14', '2023-01-03', '2023-01-12',\n",
       "       '2023-08-31', '2023-07-07', '2023-09-15', '2023-10-21',\n",
       "       '2023-09-02', '2023-08-19', '2023-01-06', '2023-10-13',\n",
       "       '2023-05-29', '2023-05-22', '2023-11-23', '2023-10-15',\n",
       "       '2023-11-14', '2023-11-26', '2023-12-17', '2023-05-09',\n",
       "       '2023-10-22', '2023-06-30', '2023-04-25', '2023-02-19',\n",
       "       '2023-12-11', '2023-10-12', '2023-07-04', '2023-01-28',\n",
       "       '2023-10-04', '2023-02-26', '2023-10-11', '2023-02-14',\n",
       "       '2023-04-28', '2023-09-06', '2023-04-23', '2023-01-22',\n",
       "       '2023-03-10', '2023-01-09', '2023-12-03', '2023-08-06',\n",
       "       '2023-12-29', '2023-02-15', '2023-05-25', '2023-10-31',\n",
       "       '2023-02-27', '2023-03-03', '2023-09-27', '2023-08-18',\n",
       "       '2023-12-16', '2023-06-07', '2023-05-12', '2023-07-06',\n",
       "       '2023-06-20', '2023-08-09', '2023-05-14', '2023-07-18',\n",
       "       '2023-10-10', '2023-02-02', '2023-08-14', '2023-09-26',\n",
       "       '2023-01-13', '2023-10-16', '2023-11-17', '2023-12-20',\n",
       "       '2023-12-04', '2023-02-08', '2023-09-11', '2023-02-01',\n",
       "       '2023-02-12', '2023-03-14', '2023-09-29', '2023-04-22',\n",
       "       '2023-06-13', '2023-12-24', '2023-03-28', '2023-03-06',\n",
       "       '2023-02-11', '2023-01-30', '2023-04-09', '2023-04-16',\n",
       "       '2023-12-23', '2023-03-05', '2023-03-24', '2023-07-23',\n",
       "       '2023-07-29', '2023-06-05', '2023-10-19', '2023-01-07',\n",
       "       '2023-11-29', '2023-07-05', '2023-07-20', '2023-05-07',\n",
       "       '2023-08-10', '2023-10-24', '2023-08-13', '2023-08-28',\n",
       "       '2023-06-21', '2023-11-10', '2023-10-18', '2023-05-19',\n",
       "       '2023-11-09', '2023-06-24', '2023-05-11', '2023-12-07',\n",
       "       '2023-09-01', '2023-09-25', '2023-06-22', '2023-05-30',\n",
       "       '2023-04-24', '2023-09-20', '2023-02-07', '2023-05-05',\n",
       "       '2023-02-10', '2023-11-24', '2023-10-25', '2023-10-05',\n",
       "       '2023-07-21', '2023-07-08', '2023-03-17', '2023-10-14',\n",
       "       '2023-06-28', '2023-09-09', '2023-08-21', '2023-07-01',\n",
       "       '2023-06-14', '2023-03-09', '2023-11-08', '2023-12-26',\n",
       "       '2023-09-13', '2023-05-23', '2023-08-24', '2023-04-01',\n",
       "       '2023-06-09', '2023-08-23', '2023-08-08', '2023-08-27',\n",
       "       '2023-05-26', '2023-06-16', '2023-12-25', '2023-01-25',\n",
       "       '2023-10-23', '2023-05-06', '2023-01-29', '2023-08-29',\n",
       "       '2023-01-01', '2023-07-24', '2023-04-12', '2023-12-18',\n",
       "       '2023-09-21', '2023-05-01', '2023-02-05', '2023-01-24',\n",
       "       '2023-01-02', '2023-06-12', '2023-01-16', '2023-10-17',\n",
       "       '2023-03-04', '2023-06-17', '2023-03-18', '2023-08-26',\n",
       "       '2023-05-17', '2023-11-22', '2023-08-17', '2023-11-19',\n",
       "       '2023-11-27', '2023-06-04', '2023-09-17', '2023-11-04',\n",
       "       '2023-11-28', '2023-06-25', '2023-04-13', '2023-01-26',\n",
       "       '2023-08-04', '2023-05-08', '2023-11-20', '2023-07-13',\n",
       "       '2023-09-24', '2023-01-21', '2023-03-08', '2023-09-07',\n",
       "       '2023-11-30', '2023-08-02', '2023-04-05', '2023-08-01',\n",
       "       '2023-01-20', '2023-11-11', '2023-02-13', '2023-07-30',\n",
       "       '2023-02-17', '2023-05-20', '2023-11-05', '2023-03-27',\n",
       "       '2023-07-03'], dtype=object)"
      ]
     },
     "execution_count": 46,
     "metadata": {},
     "output_type": "execute_result"
    }
   ],
   "source": [
    "#Checking unique date\n",
    "df['Transaction Date'].unique()"
   ]
  },
  {
   "cell_type": "code",
   "execution_count": 47,
   "id": "9a10a904-5db3-4446-8da5-c34ce7c18b12",
   "metadata": {},
   "outputs": [],
   "source": [
    "#Replacing 'ERROR' with 'UNKNOWN'\n",
    "df['Transaction Date'].replace({'ERROR':'UNKNOWN'}, inplace= True)\n",
    "\n",
    "#Filling missing 'Transaction Date' with 'UNKNOWN'\n",
    "df['Transaction Date'].fillna('UNKNOWN', inplace= True)"
   ]
  },
  {
   "cell_type": "code",
   "execution_count": 48,
   "id": "58505b9b-ad48-427f-a247-f01df494ede5",
   "metadata": {},
   "outputs": [
    {
     "data": {
      "text/plain": [
       "0"
      ]
     },
     "execution_count": 48,
     "metadata": {},
     "output_type": "execute_result"
    }
   ],
   "source": [
    "#Checking\n",
    "df['Transaction Date'].isnull().sum()"
   ]
  },
  {
   "cell_type": "code",
   "execution_count": 49,
   "id": "ea7d6886-4308-4d04-81a8-0e948c410411",
   "metadata": {},
   "outputs": [
    {
     "data": {
      "text/plain": [
       "array(['2023-09-08', '2023-05-16', '2023-07-19', '2023-04-27',\n",
       "       '2023-06-11', '2023-03-31', '2023-10-06', '2023-10-28',\n",
       "       '2023-07-28', '2023-12-31', '2023-11-07', 'UNKNOWN', '2023-05-03',\n",
       "       '2023-06-01', '2023-03-21', '2023-11-15', '2023-06-10',\n",
       "       '2023-02-24', '2023-03-25', '2023-01-15', '2023-04-04',\n",
       "       '2023-03-30', '2023-12-01', '2023-09-18', '2023-06-03',\n",
       "       '2023-12-13', '2023-04-20', '2023-04-10', '2023-03-11',\n",
       "       '2023-06-02', '2023-11-06', '2023-08-15', '2023-10-09',\n",
       "       '2023-05-28', '2023-07-17', '2023-04-29', '2023-06-08',\n",
       "       '2023-06-29', '2023-04-17', '2023-12-22', '2023-01-10',\n",
       "       '2023-10-02', '2023-02-23', '2023-03-22', '2023-11-03',\n",
       "       '2023-03-02', '2023-06-26', '2023-05-02', '2023-09-05',\n",
       "       '2023-01-08', '2023-03-15', '2023-11-25', '2023-12-05',\n",
       "       '2023-03-19', '2023-06-27', '2023-04-19', '2023-10-07',\n",
       "       '2023-09-30', '2023-05-27', '2023-11-18', '2023-10-20',\n",
       "       '2023-10-03', '2023-10-27', '2023-04-06', '2023-01-31',\n",
       "       '2023-12-08', '2023-06-19', '2023-12-14', '2023-07-16',\n",
       "       '2023-02-22', '2023-06-15', '2023-12-09', '2023-04-18',\n",
       "       '2023-10-29', '2023-04-30', '2023-04-02', '2023-05-24',\n",
       "       '2023-03-12', '2023-08-16', '2023-09-10', '2023-03-07',\n",
       "       '2023-08-07', '2023-08-20', '2023-04-15', '2023-07-25',\n",
       "       '2023-10-30', '2023-12-15', '2023-02-25', '2023-04-03',\n",
       "       '2023-10-08', '2023-12-28', '2023-08-30', '2023-02-03',\n",
       "       '2023-09-12', '2023-05-04', '2023-02-21', '2023-03-16',\n",
       "       '2023-02-06', '2023-03-29', '2023-06-18', '2023-09-23',\n",
       "       '2023-01-14', '2023-09-14', '2023-09-16', '2023-04-08',\n",
       "       '2023-12-19', '2023-07-14', '2023-12-12', '2023-01-05',\n",
       "       '2023-01-23', '2023-02-20', '2023-12-06', '2023-05-31',\n",
       "       '2023-08-11', '2023-09-03', '2023-07-11', '2023-06-06',\n",
       "       '2023-01-18', '2023-03-23', '2023-01-04', '2023-06-23',\n",
       "       '2023-08-03', '2023-07-12', '2023-11-02', '2023-07-31',\n",
       "       '2023-09-19', '2023-02-09', '2023-09-04', '2023-05-21',\n",
       "       '2023-07-02', '2023-07-10', '2023-11-21', '2023-12-02',\n",
       "       '2023-03-13', '2023-08-12', '2023-02-16', '2023-04-11',\n",
       "       '2023-03-26', '2023-11-01', '2023-07-22', '2023-07-26',\n",
       "       '2023-02-28', '2023-01-27', '2023-01-19', '2023-04-07',\n",
       "       '2023-03-20', '2023-12-27', '2023-10-26', '2023-02-18',\n",
       "       '2023-05-15', '2023-12-10', '2023-04-21', '2023-02-04',\n",
       "       '2023-11-12', '2023-08-05', '2023-05-10', '2023-07-15',\n",
       "       '2023-01-11', '2023-10-01', '2023-04-26', '2023-08-25',\n",
       "       '2023-03-01', '2023-11-13', '2023-07-09', '2023-05-13',\n",
       "       '2023-05-18', '2023-01-17', '2023-09-22', '2023-08-22',\n",
       "       '2023-07-27', '2023-12-30', '2023-12-21', '2023-09-28',\n",
       "       '2023-11-16', '2023-04-14', '2023-01-03', '2023-01-12',\n",
       "       '2023-08-31', '2023-07-07', '2023-09-15', '2023-10-21',\n",
       "       '2023-09-02', '2023-08-19', '2023-01-06', '2023-10-13',\n",
       "       '2023-05-29', '2023-05-22', '2023-11-23', '2023-10-15',\n",
       "       '2023-11-14', '2023-11-26', '2023-12-17', '2023-05-09',\n",
       "       '2023-10-22', '2023-06-30', '2023-04-25', '2023-02-19',\n",
       "       '2023-12-11', '2023-10-12', '2023-07-04', '2023-01-28',\n",
       "       '2023-10-04', '2023-02-26', '2023-10-11', '2023-02-14',\n",
       "       '2023-04-28', '2023-09-06', '2023-04-23', '2023-01-22',\n",
       "       '2023-03-10', '2023-01-09', '2023-12-03', '2023-08-06',\n",
       "       '2023-12-29', '2023-02-15', '2023-05-25', '2023-10-31',\n",
       "       '2023-02-27', '2023-03-03', '2023-09-27', '2023-08-18',\n",
       "       '2023-12-16', '2023-06-07', '2023-05-12', '2023-07-06',\n",
       "       '2023-06-20', '2023-08-09', '2023-05-14', '2023-07-18',\n",
       "       '2023-10-10', '2023-02-02', '2023-08-14', '2023-09-26',\n",
       "       '2023-01-13', '2023-10-16', '2023-11-17', '2023-12-20',\n",
       "       '2023-12-04', '2023-02-08', '2023-09-11', '2023-02-01',\n",
       "       '2023-02-12', '2023-03-14', '2023-09-29', '2023-04-22',\n",
       "       '2023-06-13', '2023-12-24', '2023-03-28', '2023-03-06',\n",
       "       '2023-02-11', '2023-01-30', '2023-04-09', '2023-04-16',\n",
       "       '2023-12-23', '2023-03-05', '2023-03-24', '2023-07-23',\n",
       "       '2023-07-29', '2023-06-05', '2023-10-19', '2023-01-07',\n",
       "       '2023-11-29', '2023-07-05', '2023-07-20', '2023-05-07',\n",
       "       '2023-08-10', '2023-10-24', '2023-08-13', '2023-08-28',\n",
       "       '2023-06-21', '2023-11-10', '2023-10-18', '2023-05-19',\n",
       "       '2023-11-09', '2023-06-24', '2023-05-11', '2023-12-07',\n",
       "       '2023-09-01', '2023-09-25', '2023-06-22', '2023-05-30',\n",
       "       '2023-04-24', '2023-09-20', '2023-02-07', '2023-05-05',\n",
       "       '2023-02-10', '2023-11-24', '2023-10-25', '2023-10-05',\n",
       "       '2023-07-21', '2023-07-08', '2023-03-17', '2023-10-14',\n",
       "       '2023-06-28', '2023-09-09', '2023-08-21', '2023-07-01',\n",
       "       '2023-06-14', '2023-03-09', '2023-11-08', '2023-12-26',\n",
       "       '2023-09-13', '2023-05-23', '2023-08-24', '2023-04-01',\n",
       "       '2023-06-09', '2023-08-23', '2023-08-08', '2023-08-27',\n",
       "       '2023-05-26', '2023-06-16', '2023-12-25', '2023-01-25',\n",
       "       '2023-10-23', '2023-05-06', '2023-01-29', '2023-08-29',\n",
       "       '2023-01-01', '2023-07-24', '2023-04-12', '2023-12-18',\n",
       "       '2023-09-21', '2023-05-01', '2023-02-05', '2023-01-24',\n",
       "       '2023-01-02', '2023-06-12', '2023-01-16', '2023-10-17',\n",
       "       '2023-03-04', '2023-06-17', '2023-03-18', '2023-08-26',\n",
       "       '2023-05-17', '2023-11-22', '2023-08-17', '2023-11-19',\n",
       "       '2023-11-27', '2023-06-04', '2023-09-17', '2023-11-04',\n",
       "       '2023-11-28', '2023-06-25', '2023-04-13', '2023-01-26',\n",
       "       '2023-08-04', '2023-05-08', '2023-11-20', '2023-07-13',\n",
       "       '2023-09-24', '2023-01-21', '2023-03-08', '2023-09-07',\n",
       "       '2023-11-30', '2023-08-02', '2023-04-05', '2023-08-01',\n",
       "       '2023-01-20', '2023-11-11', '2023-02-13', '2023-07-30',\n",
       "       '2023-02-17', '2023-05-20', '2023-11-05', '2023-03-27',\n",
       "       '2023-07-03'], dtype=object)"
      ]
     },
     "execution_count": 49,
     "metadata": {},
     "output_type": "execute_result"
    }
   ],
   "source": [
    "df['Transaction Date'].unique()"
   ]
  },
  {
   "cell_type": "code",
   "execution_count": 50,
   "id": "4b627268-c590-415b-b9b2-bf3150909cda",
   "metadata": {},
   "outputs": [
    {
     "name": "stdout",
     "output_type": "stream",
     "text": [
      "<class 'pandas.core.frame.DataFrame'>\n",
      "RangeIndex: 10000 entries, 0 to 9999\n",
      "Data columns (total 8 columns):\n",
      " #   Column            Non-Null Count  Dtype  \n",
      "---  ------            --------------  -----  \n",
      " 0   Transaction ID    10000 non-null  object \n",
      " 1   Item              10000 non-null  object \n",
      " 2   Quantity          10000 non-null  float64\n",
      " 3   Price Per Unit    10000 non-null  float64\n",
      " 4   Total Spent       10000 non-null  float64\n",
      " 5   Payment Method    10000 non-null  object \n",
      " 6   Location          10000 non-null  object \n",
      " 7   Transaction Date  10000 non-null  object \n",
      "dtypes: float64(3), object(5)\n",
      "memory usage: 625.1+ KB\n"
     ]
    }
   ],
   "source": [
    "df.info()"
   ]
  },
  {
   "cell_type": "markdown",
   "id": "20770f51-4942-4468-b4ce-3cbe9121772d",
   "metadata": {},
   "source": [
    "Fixing Data Types"
   ]
  },
  {
   "cell_type": "code",
   "execution_count": 52,
   "id": "ce2b7cd7-a93a-40f8-9a1c-77c0f3761ebe",
   "metadata": {},
   "outputs": [
    {
     "data": {
      "text/plain": [
       "Transaction ID       object\n",
       "Item                 object\n",
       "Quantity            float64\n",
       "Price Per Unit      float64\n",
       "Total Spent         float64\n",
       "Payment Method       object\n",
       "Location             object\n",
       "Transaction Date     object\n",
       "dtype: object"
      ]
     },
     "execution_count": 52,
     "metadata": {},
     "output_type": "execute_result"
    }
   ],
   "source": [
    "df.dtypes"
   ]
  },
  {
   "cell_type": "code",
   "execution_count": 53,
   "id": "b33b21b7-efdd-4d11-9483-39c346198975",
   "metadata": {},
   "outputs": [],
   "source": [
    "df['Transaction Date'] = pd.to_datetime(df['Transaction Date'], errors ='coerce')"
   ]
  },
  {
   "cell_type": "code",
   "execution_count": 54,
   "id": "8f3e7efa-5003-4db1-bb89-54772ab5449a",
   "metadata": {},
   "outputs": [
    {
     "data": {
      "text/plain": [
       "Transaction ID              object\n",
       "Item                        object\n",
       "Quantity                   float64\n",
       "Price Per Unit             float64\n",
       "Total Spent                float64\n",
       "Payment Method              object\n",
       "Location                    object\n",
       "Transaction Date    datetime64[ns]\n",
       "dtype: object"
      ]
     },
     "execution_count": 54,
     "metadata": {},
     "output_type": "execute_result"
    }
   ],
   "source": [
    "#checking\n",
    "df.dtypes"
   ]
  },
  {
   "cell_type": "code",
   "execution_count": 55,
   "id": "ca8673cb-92ab-45e5-8cdb-8d1c114cba9d",
   "metadata": {},
   "outputs": [
    {
     "data": {
      "text/plain": [
       "0"
      ]
     },
     "execution_count": 55,
     "metadata": {},
     "output_type": "execute_result"
    }
   ],
   "source": [
    "#Checking for duplicates\n",
    "df.duplicated().sum()"
   ]
  },
  {
   "cell_type": "markdown",
   "id": "44d5bcea-f5e9-45e9-a3f0-42b25135762c",
   "metadata": {},
   "source": [
    "Cleaning Inconsistent Data"
   ]
  },
  {
   "cell_type": "code",
   "execution_count": 57,
   "id": "c239ba3e-8311-4c47-af6b-c9bb04f48245",
   "metadata": {},
   "outputs": [
    {
     "data": {
      "text/html": [
       "<div>\n",
       "<style scoped>\n",
       "    .dataframe tbody tr th:only-of-type {\n",
       "        vertical-align: middle;\n",
       "    }\n",
       "\n",
       "    .dataframe tbody tr th {\n",
       "        vertical-align: top;\n",
       "    }\n",
       "\n",
       "    .dataframe thead th {\n",
       "        text-align: right;\n",
       "    }\n",
       "</style>\n",
       "<table border=\"1\" class=\"dataframe\">\n",
       "  <thead>\n",
       "    <tr style=\"text-align: right;\">\n",
       "      <th></th>\n",
       "      <th>Transaction ID</th>\n",
       "      <th>Item</th>\n",
       "      <th>Quantity</th>\n",
       "      <th>Price Per Unit</th>\n",
       "      <th>Total Spent</th>\n",
       "      <th>Payment Method</th>\n",
       "      <th>Location</th>\n",
       "      <th>Transaction Date</th>\n",
       "    </tr>\n",
       "  </thead>\n",
       "  <tbody>\n",
       "    <tr>\n",
       "      <th>0</th>\n",
       "      <td>TXN_1961373</td>\n",
       "      <td>Coffee</td>\n",
       "      <td>2.0</td>\n",
       "      <td>2.0</td>\n",
       "      <td>4.0</td>\n",
       "      <td>Credit Card</td>\n",
       "      <td>Takeaway</td>\n",
       "      <td>2023-09-08</td>\n",
       "    </tr>\n",
       "    <tr>\n",
       "      <th>1</th>\n",
       "      <td>TXN_4977031</td>\n",
       "      <td>Cake</td>\n",
       "      <td>4.0</td>\n",
       "      <td>3.0</td>\n",
       "      <td>12.0</td>\n",
       "      <td>Cash</td>\n",
       "      <td>In-store</td>\n",
       "      <td>2023-05-16</td>\n",
       "    </tr>\n",
       "    <tr>\n",
       "      <th>2</th>\n",
       "      <td>TXN_4271903</td>\n",
       "      <td>Cookie</td>\n",
       "      <td>4.0</td>\n",
       "      <td>1.0</td>\n",
       "      <td>0.0</td>\n",
       "      <td>Credit Card</td>\n",
       "      <td>In-store</td>\n",
       "      <td>2023-07-19</td>\n",
       "    </tr>\n",
       "    <tr>\n",
       "      <th>3</th>\n",
       "      <td>TXN_7034554</td>\n",
       "      <td>Salad</td>\n",
       "      <td>2.0</td>\n",
       "      <td>5.0</td>\n",
       "      <td>10.0</td>\n",
       "      <td>Credit Card</td>\n",
       "      <td>UNKNOWN</td>\n",
       "      <td>2023-04-27</td>\n",
       "    </tr>\n",
       "    <tr>\n",
       "      <th>4</th>\n",
       "      <td>TXN_3160411</td>\n",
       "      <td>Coffee</td>\n",
       "      <td>2.0</td>\n",
       "      <td>2.0</td>\n",
       "      <td>4.0</td>\n",
       "      <td>Digital Wallet</td>\n",
       "      <td>In-store</td>\n",
       "      <td>2023-06-11</td>\n",
       "    </tr>\n",
       "  </tbody>\n",
       "</table>\n",
       "</div>"
      ],
      "text/plain": [
       "  Transaction ID    Item  Quantity  Price Per Unit  Total Spent  \\\n",
       "0    TXN_1961373  Coffee       2.0             2.0          4.0   \n",
       "1    TXN_4977031    Cake       4.0             3.0         12.0   \n",
       "2    TXN_4271903  Cookie       4.0             1.0          0.0   \n",
       "3    TXN_7034554   Salad       2.0             5.0         10.0   \n",
       "4    TXN_3160411  Coffee       2.0             2.0          4.0   \n",
       "\n",
       "   Payment Method  Location Transaction Date  \n",
       "0     Credit Card  Takeaway       2023-09-08  \n",
       "1            Cash  In-store       2023-05-16  \n",
       "2     Credit Card  In-store       2023-07-19  \n",
       "3     Credit Card   UNKNOWN       2023-04-27  \n",
       "4  Digital Wallet  In-store       2023-06-11  "
      ]
     },
     "execution_count": 57,
     "metadata": {},
     "output_type": "execute_result"
    }
   ],
   "source": [
    "df.head()"
   ]
  },
  {
   "cell_type": "code",
   "execution_count": 58,
   "id": "e8054f8b-f255-41c5-b43e-eabae8ddb0a4",
   "metadata": {},
   "outputs": [],
   "source": [
    "df['Item'] = df['Item'].str.lower().str.strip()\n",
    "df['Location'] = df['Location'].str.lower().str.strip()\n",
    "df['Payment Method'] = df['Payment Method'].str.lower().str.strip()\n",
    "df['Transaction Date'].replace({'UNKNOWN': 'unknown'}, inplace= True)"
   ]
  },
  {
   "cell_type": "code",
   "execution_count": 59,
   "id": "14ee2e2d-afa8-483b-bf10-bef1dc4b276b",
   "metadata": {},
   "outputs": [
    {
     "data": {
      "text/html": [
       "<div>\n",
       "<style scoped>\n",
       "    .dataframe tbody tr th:only-of-type {\n",
       "        vertical-align: middle;\n",
       "    }\n",
       "\n",
       "    .dataframe tbody tr th {\n",
       "        vertical-align: top;\n",
       "    }\n",
       "\n",
       "    .dataframe thead th {\n",
       "        text-align: right;\n",
       "    }\n",
       "</style>\n",
       "<table border=\"1\" class=\"dataframe\">\n",
       "  <thead>\n",
       "    <tr style=\"text-align: right;\">\n",
       "      <th></th>\n",
       "      <th>Transaction ID</th>\n",
       "      <th>Item</th>\n",
       "      <th>Quantity</th>\n",
       "      <th>Price Per Unit</th>\n",
       "      <th>Total Spent</th>\n",
       "      <th>Payment Method</th>\n",
       "      <th>Location</th>\n",
       "      <th>Transaction Date</th>\n",
       "    </tr>\n",
       "  </thead>\n",
       "  <tbody>\n",
       "    <tr>\n",
       "      <th>0</th>\n",
       "      <td>TXN_1961373</td>\n",
       "      <td>coffee</td>\n",
       "      <td>2.0</td>\n",
       "      <td>2.000000</td>\n",
       "      <td>4.0</td>\n",
       "      <td>credit card</td>\n",
       "      <td>takeaway</td>\n",
       "      <td>2023-09-08</td>\n",
       "    </tr>\n",
       "    <tr>\n",
       "      <th>1</th>\n",
       "      <td>TXN_4977031</td>\n",
       "      <td>cake</td>\n",
       "      <td>4.0</td>\n",
       "      <td>3.000000</td>\n",
       "      <td>12.0</td>\n",
       "      <td>cash</td>\n",
       "      <td>in-store</td>\n",
       "      <td>2023-05-16</td>\n",
       "    </tr>\n",
       "    <tr>\n",
       "      <th>2</th>\n",
       "      <td>TXN_4271903</td>\n",
       "      <td>cookie</td>\n",
       "      <td>4.0</td>\n",
       "      <td>1.000000</td>\n",
       "      <td>0.0</td>\n",
       "      <td>credit card</td>\n",
       "      <td>in-store</td>\n",
       "      <td>2023-07-19</td>\n",
       "    </tr>\n",
       "    <tr>\n",
       "      <th>3</th>\n",
       "      <td>TXN_7034554</td>\n",
       "      <td>salad</td>\n",
       "      <td>2.0</td>\n",
       "      <td>5.000000</td>\n",
       "      <td>10.0</td>\n",
       "      <td>credit card</td>\n",
       "      <td>unknown</td>\n",
       "      <td>2023-04-27</td>\n",
       "    </tr>\n",
       "    <tr>\n",
       "      <th>4</th>\n",
       "      <td>TXN_3160411</td>\n",
       "      <td>coffee</td>\n",
       "      <td>2.0</td>\n",
       "      <td>2.000000</td>\n",
       "      <td>4.0</td>\n",
       "      <td>digital wallet</td>\n",
       "      <td>in-store</td>\n",
       "      <td>2023-06-11</td>\n",
       "    </tr>\n",
       "    <tr>\n",
       "      <th>...</th>\n",
       "      <td>...</td>\n",
       "      <td>...</td>\n",
       "      <td>...</td>\n",
       "      <td>...</td>\n",
       "      <td>...</td>\n",
       "      <td>...</td>\n",
       "      <td>...</td>\n",
       "      <td>...</td>\n",
       "    </tr>\n",
       "    <tr>\n",
       "      <th>9995</th>\n",
       "      <td>TXN_7672686</td>\n",
       "      <td>coffee</td>\n",
       "      <td>2.0</td>\n",
       "      <td>2.000000</td>\n",
       "      <td>4.0</td>\n",
       "      <td>credit card</td>\n",
       "      <td>unknown</td>\n",
       "      <td>2023-08-30</td>\n",
       "    </tr>\n",
       "    <tr>\n",
       "      <th>9996</th>\n",
       "      <td>TXN_9659401</td>\n",
       "      <td>unknown</td>\n",
       "      <td>3.0</td>\n",
       "      <td>2.843651</td>\n",
       "      <td>3.0</td>\n",
       "      <td>digital wallet</td>\n",
       "      <td>unknown</td>\n",
       "      <td>2023-06-02</td>\n",
       "    </tr>\n",
       "    <tr>\n",
       "      <th>9997</th>\n",
       "      <td>TXN_5255387</td>\n",
       "      <td>coffee</td>\n",
       "      <td>4.0</td>\n",
       "      <td>2.000000</td>\n",
       "      <td>8.0</td>\n",
       "      <td>digital wallet</td>\n",
       "      <td>unknown</td>\n",
       "      <td>2023-03-02</td>\n",
       "    </tr>\n",
       "    <tr>\n",
       "      <th>9998</th>\n",
       "      <td>TXN_7695629</td>\n",
       "      <td>cookie</td>\n",
       "      <td>3.0</td>\n",
       "      <td>2.843651</td>\n",
       "      <td>3.0</td>\n",
       "      <td>digital wallet</td>\n",
       "      <td>unknown</td>\n",
       "      <td>2023-12-02</td>\n",
       "    </tr>\n",
       "    <tr>\n",
       "      <th>9999</th>\n",
       "      <td>TXN_6170729</td>\n",
       "      <td>sandwich</td>\n",
       "      <td>3.0</td>\n",
       "      <td>4.000000</td>\n",
       "      <td>12.0</td>\n",
       "      <td>cash</td>\n",
       "      <td>in-store</td>\n",
       "      <td>2023-11-07</td>\n",
       "    </tr>\n",
       "  </tbody>\n",
       "</table>\n",
       "<p>10000 rows × 8 columns</p>\n",
       "</div>"
      ],
      "text/plain": [
       "     Transaction ID      Item  Quantity  Price Per Unit  Total Spent  \\\n",
       "0       TXN_1961373    coffee       2.0        2.000000          4.0   \n",
       "1       TXN_4977031      cake       4.0        3.000000         12.0   \n",
       "2       TXN_4271903    cookie       4.0        1.000000          0.0   \n",
       "3       TXN_7034554     salad       2.0        5.000000         10.0   \n",
       "4       TXN_3160411    coffee       2.0        2.000000          4.0   \n",
       "...             ...       ...       ...             ...          ...   \n",
       "9995    TXN_7672686    coffee       2.0        2.000000          4.0   \n",
       "9996    TXN_9659401   unknown       3.0        2.843651          3.0   \n",
       "9997    TXN_5255387    coffee       4.0        2.000000          8.0   \n",
       "9998    TXN_7695629    cookie       3.0        2.843651          3.0   \n",
       "9999    TXN_6170729  sandwich       3.0        4.000000         12.0   \n",
       "\n",
       "      Payment Method  Location Transaction Date  \n",
       "0        credit card  takeaway       2023-09-08  \n",
       "1               cash  in-store       2023-05-16  \n",
       "2        credit card  in-store       2023-07-19  \n",
       "3        credit card   unknown       2023-04-27  \n",
       "4     digital wallet  in-store       2023-06-11  \n",
       "...              ...       ...              ...  \n",
       "9995     credit card   unknown       2023-08-30  \n",
       "9996  digital wallet   unknown       2023-06-02  \n",
       "9997  digital wallet   unknown       2023-03-02  \n",
       "9998  digital wallet   unknown       2023-12-02  \n",
       "9999            cash  in-store       2023-11-07  \n",
       "\n",
       "[10000 rows x 8 columns]"
      ]
     },
     "execution_count": 59,
     "metadata": {},
     "output_type": "execute_result"
    }
   ],
   "source": [
    "df"
   ]
  },
  {
   "cell_type": "markdown",
   "id": "76d9433b-cfee-4e08-8db7-15a94e228d56",
   "metadata": {},
   "source": [
    "Renaming Columns"
   ]
  },
  {
   "cell_type": "code",
   "execution_count": 60,
   "id": "2716b579-49ce-4863-931a-7dc2c5702a2b",
   "metadata": {},
   "outputs": [],
   "source": [
    "df.columns = [col.lower().replace(' ','_') for col in df.columns]"
   ]
  },
  {
   "cell_type": "markdown",
   "id": "8d93ba41-ab50-4576-bfeb-9348f535d409",
   "metadata": {},
   "source": [
    "Verifing before saving the cleaned data"
   ]
  },
  {
   "cell_type": "code",
   "execution_count": 111,
   "id": "277afb69-471b-44d0-a78d-e590d41c50a0",
   "metadata": {},
   "outputs": [
    {
     "data": {
      "text/html": [
       "<div>\n",
       "<style scoped>\n",
       "    .dataframe tbody tr th:only-of-type {\n",
       "        vertical-align: middle;\n",
       "    }\n",
       "\n",
       "    .dataframe tbody tr th {\n",
       "        vertical-align: top;\n",
       "    }\n",
       "\n",
       "    .dataframe thead th {\n",
       "        text-align: right;\n",
       "    }\n",
       "</style>\n",
       "<table border=\"1\" class=\"dataframe\">\n",
       "  <thead>\n",
       "    <tr style=\"text-align: right;\">\n",
       "      <th></th>\n",
       "      <th>transaction_id</th>\n",
       "      <th>item</th>\n",
       "      <th>quantity</th>\n",
       "      <th>price_per_unit</th>\n",
       "      <th>total_spent</th>\n",
       "      <th>payment_method</th>\n",
       "      <th>location</th>\n",
       "      <th>transaction_date</th>\n",
       "    </tr>\n",
       "  </thead>\n",
       "  <tbody>\n",
       "    <tr>\n",
       "      <th>0</th>\n",
       "      <td>TXN_1961373</td>\n",
       "      <td>coffee</td>\n",
       "      <td>2.0</td>\n",
       "      <td>2.000000</td>\n",
       "      <td>4.0</td>\n",
       "      <td>credit card</td>\n",
       "      <td>takeaway</td>\n",
       "      <td>2023-09-08</td>\n",
       "    </tr>\n",
       "    <tr>\n",
       "      <th>1</th>\n",
       "      <td>TXN_4977031</td>\n",
       "      <td>cake</td>\n",
       "      <td>4.0</td>\n",
       "      <td>3.000000</td>\n",
       "      <td>12.0</td>\n",
       "      <td>cash</td>\n",
       "      <td>in-store</td>\n",
       "      <td>2023-05-16</td>\n",
       "    </tr>\n",
       "    <tr>\n",
       "      <th>2</th>\n",
       "      <td>TXN_4271903</td>\n",
       "      <td>cookie</td>\n",
       "      <td>4.0</td>\n",
       "      <td>1.000000</td>\n",
       "      <td>0.0</td>\n",
       "      <td>credit card</td>\n",
       "      <td>in-store</td>\n",
       "      <td>2023-07-19</td>\n",
       "    </tr>\n",
       "    <tr>\n",
       "      <th>3</th>\n",
       "      <td>TXN_7034554</td>\n",
       "      <td>salad</td>\n",
       "      <td>2.0</td>\n",
       "      <td>5.000000</td>\n",
       "      <td>10.0</td>\n",
       "      <td>credit card</td>\n",
       "      <td>unknown</td>\n",
       "      <td>2023-04-27</td>\n",
       "    </tr>\n",
       "    <tr>\n",
       "      <th>4</th>\n",
       "      <td>TXN_3160411</td>\n",
       "      <td>coffee</td>\n",
       "      <td>2.0</td>\n",
       "      <td>2.000000</td>\n",
       "      <td>4.0</td>\n",
       "      <td>digital wallet</td>\n",
       "      <td>in-store</td>\n",
       "      <td>2023-06-11</td>\n",
       "    </tr>\n",
       "    <tr>\n",
       "      <th>...</th>\n",
       "      <td>...</td>\n",
       "      <td>...</td>\n",
       "      <td>...</td>\n",
       "      <td>...</td>\n",
       "      <td>...</td>\n",
       "      <td>...</td>\n",
       "      <td>...</td>\n",
       "      <td>...</td>\n",
       "    </tr>\n",
       "    <tr>\n",
       "      <th>9995</th>\n",
       "      <td>TXN_7672686</td>\n",
       "      <td>coffee</td>\n",
       "      <td>2.0</td>\n",
       "      <td>2.000000</td>\n",
       "      <td>4.0</td>\n",
       "      <td>credit card</td>\n",
       "      <td>unknown</td>\n",
       "      <td>2023-08-30</td>\n",
       "    </tr>\n",
       "    <tr>\n",
       "      <th>9996</th>\n",
       "      <td>TXN_9659401</td>\n",
       "      <td>unknown</td>\n",
       "      <td>3.0</td>\n",
       "      <td>2.843651</td>\n",
       "      <td>3.0</td>\n",
       "      <td>digital wallet</td>\n",
       "      <td>unknown</td>\n",
       "      <td>2023-06-02</td>\n",
       "    </tr>\n",
       "    <tr>\n",
       "      <th>9997</th>\n",
       "      <td>TXN_5255387</td>\n",
       "      <td>coffee</td>\n",
       "      <td>4.0</td>\n",
       "      <td>2.000000</td>\n",
       "      <td>8.0</td>\n",
       "      <td>digital wallet</td>\n",
       "      <td>unknown</td>\n",
       "      <td>2023-03-02</td>\n",
       "    </tr>\n",
       "    <tr>\n",
       "      <th>9998</th>\n",
       "      <td>TXN_7695629</td>\n",
       "      <td>cookie</td>\n",
       "      <td>3.0</td>\n",
       "      <td>2.843651</td>\n",
       "      <td>3.0</td>\n",
       "      <td>digital wallet</td>\n",
       "      <td>unknown</td>\n",
       "      <td>2023-12-02</td>\n",
       "    </tr>\n",
       "    <tr>\n",
       "      <th>9999</th>\n",
       "      <td>TXN_6170729</td>\n",
       "      <td>sandwich</td>\n",
       "      <td>3.0</td>\n",
       "      <td>4.000000</td>\n",
       "      <td>12.0</td>\n",
       "      <td>cash</td>\n",
       "      <td>in-store</td>\n",
       "      <td>2023-11-07</td>\n",
       "    </tr>\n",
       "  </tbody>\n",
       "</table>\n",
       "<p>10000 rows × 8 columns</p>\n",
       "</div>"
      ],
      "text/plain": [
       "     transaction_id      item  quantity  price_per_unit  total_spent  \\\n",
       "0       TXN_1961373    coffee       2.0        2.000000          4.0   \n",
       "1       TXN_4977031      cake       4.0        3.000000         12.0   \n",
       "2       TXN_4271903    cookie       4.0        1.000000          0.0   \n",
       "3       TXN_7034554     salad       2.0        5.000000         10.0   \n",
       "4       TXN_3160411    coffee       2.0        2.000000          4.0   \n",
       "...             ...       ...       ...             ...          ...   \n",
       "9995    TXN_7672686    coffee       2.0        2.000000          4.0   \n",
       "9996    TXN_9659401   unknown       3.0        2.843651          3.0   \n",
       "9997    TXN_5255387    coffee       4.0        2.000000          8.0   \n",
       "9998    TXN_7695629    cookie       3.0        2.843651          3.0   \n",
       "9999    TXN_6170729  sandwich       3.0        4.000000         12.0   \n",
       "\n",
       "      payment_method  location transaction_date  \n",
       "0        credit card  takeaway       2023-09-08  \n",
       "1               cash  in-store       2023-05-16  \n",
       "2        credit card  in-store       2023-07-19  \n",
       "3        credit card   unknown       2023-04-27  \n",
       "4     digital wallet  in-store       2023-06-11  \n",
       "...              ...       ...              ...  \n",
       "9995     credit card   unknown       2023-08-30  \n",
       "9996  digital wallet   unknown       2023-06-02  \n",
       "9997  digital wallet   unknown       2023-03-02  \n",
       "9998  digital wallet   unknown       2023-12-02  \n",
       "9999            cash  in-store       2023-11-07  \n",
       "\n",
       "[10000 rows x 8 columns]"
      ]
     },
     "execution_count": 111,
     "metadata": {},
     "output_type": "execute_result"
    }
   ],
   "source": [
    "df"
   ]
  },
  {
   "cell_type": "code",
   "execution_count": 116,
   "id": "1c9415c3-a5dd-4da5-952f-ad0c8ba16b4e",
   "metadata": {},
   "outputs": [
    {
     "name": "stdout",
     "output_type": "stream",
     "text": [
      "<class 'pandas.core.frame.DataFrame'>\n",
      "RangeIndex: 10000 entries, 0 to 9999\n",
      "Data columns (total 8 columns):\n",
      " #   Column            Non-Null Count  Dtype         \n",
      "---  ------            --------------  -----         \n",
      " 0   transaction_id    10000 non-null  object        \n",
      " 1   item              10000 non-null  object        \n",
      " 2   quantity          10000 non-null  float64       \n",
      " 3   price_per_unit    10000 non-null  float64       \n",
      " 4   total_spent       10000 non-null  float64       \n",
      " 5   payment_method    10000 non-null  object        \n",
      " 6   location          10000 non-null  object        \n",
      " 7   transaction_date  9540 non-null   datetime64[ns]\n",
      "dtypes: datetime64[ns](1), float64(3), object(4)\n",
      "memory usage: 625.1+ KB\n"
     ]
    }
   ],
   "source": [
    "df.info()"
   ]
  },
  {
   "cell_type": "code",
   "execution_count": 118,
   "id": "71840703-0e33-4ea4-aa59-f0211aaaa945",
   "metadata": {},
   "outputs": [
    {
     "data": {
      "text/plain": [
       "transaction_id        0\n",
       "item                  0\n",
       "quantity              0\n",
       "price_per_unit        0\n",
       "total_spent           0\n",
       "payment_method        0\n",
       "location              0\n",
       "transaction_date    460\n",
       "dtype: int64"
      ]
     },
     "execution_count": 118,
     "metadata": {},
     "output_type": "execute_result"
    }
   ],
   "source": [
    "df.isnull().sum()"
   ]
  },
  {
   "cell_type": "code",
   "execution_count": 128,
   "id": "2dc62fc6-e3b2-4391-8ac8-7ac073110678",
   "metadata": {},
   "outputs": [],
   "source": [
    "#Replacing unknown date with a placeholder date '1900-01-01'\n",
    "df['transaction_date'].replace({'unknown': '1900-01-01'}, inplace= True)"
   ]
  },
  {
   "cell_type": "code",
   "execution_count": 130,
   "id": "423301bb-916e-4604-be06-40fb1334af98",
   "metadata": {},
   "outputs": [
    {
     "data": {
      "text/plain": [
       "transaction_id      0\n",
       "item                0\n",
       "quantity            0\n",
       "price_per_unit      0\n",
       "total_spent         0\n",
       "payment_method      0\n",
       "location            0\n",
       "transaction_date    0\n",
       "dtype: int64"
      ]
     },
     "execution_count": 130,
     "metadata": {},
     "output_type": "execute_result"
    }
   ],
   "source": [
    "df.isnull().sum()"
   ]
  },
  {
   "cell_type": "markdown",
   "id": "4e594645-89cc-4aea-b40b-8341fa23563b",
   "metadata": {},
   "source": [
    "Saving Cleaned Dataset"
   ]
  },
  {
   "cell_type": "code",
   "execution_count": 133,
   "id": "dc4f95cb-6686-4fd7-b192-9c5a08c35d65",
   "metadata": {},
   "outputs": [],
   "source": [
    "df.to_csv('cleaned_cafe_dataset.csv', index=False)"
   ]
  },
  {
   "cell_type": "code",
   "execution_count": null,
   "id": "681abb21-e64c-4c62-87b5-ae54e592d8d7",
   "metadata": {},
   "outputs": [],
   "source": []
  }
 ],
 "metadata": {
  "kernelspec": {
   "display_name": "anaconda-ai-2024.04-py310",
   "language": "python",
   "name": "conda-env-anaconda-ai-2024.04-py310-py"
  },
  "language_info": {
   "codemirror_mode": {
    "name": "ipython",
    "version": 3
   },
   "file_extension": ".py",
   "mimetype": "text/x-python",
   "name": "python",
   "nbconvert_exporter": "python",
   "pygments_lexer": "ipython3",
   "version": "3.10.13"
  }
 },
 "nbformat": 4,
 "nbformat_minor": 5
}
